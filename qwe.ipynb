{
 "cells": [
  {
   "cell_type": "code",
   "execution_count": null,
   "id": "9e93a3c8",
   "metadata": {},
   "outputs": [
    {
     "name": "stdout",
     "output_type": "stream",
     "text": [
      "Collecting mediapipe\n",
      "  Downloading mediapipe-0.10.21-cp39-cp39-win_amd64.whl.metadata (10 kB)\n",
      "Requirement already satisfied: absl-py in c:\\users\\427s2\\anaconda3\\envs\\cuda_torch1\\lib\\site-packages (from mediapipe) (2.2.2)\n",
      "Requirement already satisfied: attrs>=19.1.0 in c:\\users\\427s2\\anaconda3\\envs\\cuda_torch1\\lib\\site-packages (from mediapipe) (25.3.0)\n",
      "Requirement already satisfied: flatbuffers>=2.0 in c:\\users\\427s2\\anaconda3\\envs\\cuda_torch1\\lib\\site-packages (from mediapipe) (25.2.10)\n",
      "Collecting jax (from mediapipe)\n",
      "  Downloading jax-0.4.30-py3-none-any.whl.metadata (22 kB)\n",
      "Collecting jaxlib (from mediapipe)\n",
      "  Downloading jaxlib-0.4.30-cp39-cp39-win_amd64.whl.metadata (1.1 kB)\n",
      "Requirement already satisfied: matplotlib in c:\\users\\427s2\\anaconda3\\envs\\cuda_torch1\\lib\\site-packages (from mediapipe) (3.9.4)\n",
      "Collecting numpy<2 (from mediapipe)\n",
      "  Using cached numpy-1.26.4-cp39-cp39-win_amd64.whl.metadata (61 kB)\n",
      "Requirement already satisfied: opencv-contrib-python in c:\\users\\427s2\\anaconda3\\envs\\cuda_torch1\\lib\\site-packages (from mediapipe) (4.10.0.84)\n",
      "Collecting protobuf<5,>=4.25.3 (from mediapipe)\n",
      "  Downloading protobuf-4.25.8-cp39-cp39-win_amd64.whl.metadata (541 bytes)\n",
      "Requirement already satisfied: sounddevice>=0.4.4 in c:\\users\\427s2\\anaconda3\\envs\\cuda_torch1\\lib\\site-packages (from mediapipe) (0.5.1)\n",
      "Collecting sentencepiece (from mediapipe)\n",
      "  Downloading sentencepiece-0.2.1-cp39-cp39-win_amd64.whl.metadata (10 kB)\n",
      "Requirement already satisfied: CFFI>=1.0 in c:\\users\\427s2\\anaconda3\\envs\\cuda_torch1\\lib\\site-packages (from sounddevice>=0.4.4->mediapipe) (1.17.1)\n",
      "Requirement already satisfied: ml-dtypes>=0.2.0 in c:\\users\\427s2\\anaconda3\\envs\\cuda_torch1\\lib\\site-packages (from jax->mediapipe) (0.5.1)\n",
      "Requirement already satisfied: opt-einsum in c:\\users\\427s2\\anaconda3\\envs\\cuda_torch1\\lib\\site-packages (from jax->mediapipe) (3.4.0)\n",
      "Requirement already satisfied: scipy>=1.9 in c:\\users\\427s2\\anaconda3\\envs\\cuda_torch1\\lib\\site-packages (from jax->mediapipe) (1.13.1)\n",
      "Requirement already satisfied: importlib-metadata>=4.6 in c:\\users\\427s2\\anaconda3\\envs\\cuda_torch1\\lib\\site-packages (from jax->mediapipe) (8.6.1)\n",
      "Requirement already satisfied: contourpy>=1.0.1 in c:\\users\\427s2\\anaconda3\\envs\\cuda_torch1\\lib\\site-packages (from matplotlib->mediapipe) (1.3.0)\n",
      "Requirement already satisfied: cycler>=0.10 in c:\\users\\427s2\\anaconda3\\envs\\cuda_torch1\\lib\\site-packages (from matplotlib->mediapipe) (0.12.1)\n",
      "Requirement already satisfied: fonttools>=4.22.0 in c:\\users\\427s2\\anaconda3\\envs\\cuda_torch1\\lib\\site-packages (from matplotlib->mediapipe) (4.57.0)\n",
      "Requirement already satisfied: kiwisolver>=1.3.1 in c:\\users\\427s2\\anaconda3\\envs\\cuda_torch1\\lib\\site-packages (from matplotlib->mediapipe) (1.4.7)\n",
      "Requirement already satisfied: packaging>=20.0 in c:\\users\\427s2\\anaconda3\\envs\\cuda_torch1\\lib\\site-packages (from matplotlib->mediapipe) (24.2)\n",
      "Requirement already satisfied: pillow>=8 in c:\\users\\427s2\\anaconda3\\envs\\cuda_torch1\\lib\\site-packages (from matplotlib->mediapipe) (11.0.0)\n",
      "Requirement already satisfied: pyparsing>=2.3.1 in c:\\users\\427s2\\anaconda3\\envs\\cuda_torch1\\lib\\site-packages (from matplotlib->mediapipe) (3.2.3)\n",
      "Requirement already satisfied: python-dateutil>=2.7 in c:\\users\\427s2\\anaconda3\\envs\\cuda_torch1\\lib\\site-packages (from matplotlib->mediapipe) (2.9.0.post0)\n",
      "Requirement already satisfied: importlib-resources>=3.2.0 in c:\\users\\427s2\\anaconda3\\envs\\cuda_torch1\\lib\\site-packages (from matplotlib->mediapipe) (6.5.2)\n",
      "Requirement already satisfied: pycparser in c:\\users\\427s2\\anaconda3\\envs\\cuda_torch1\\lib\\site-packages (from CFFI>=1.0->sounddevice>=0.4.4->mediapipe) (2.22)\n",
      "Requirement already satisfied: zipp>=3.20 in c:\\users\\427s2\\anaconda3\\envs\\cuda_torch1\\lib\\site-packages (from importlib-metadata>=4.6->jax->mediapipe) (3.21.0)\n",
      "Requirement already satisfied: six>=1.5 in c:\\users\\427s2\\anaconda3\\envs\\cuda_torch1\\lib\\site-packages (from python-dateutil>=2.7->matplotlib->mediapipe) (1.17.0)\n",
      "Downloading mediapipe-0.10.21-cp39-cp39-win_amd64.whl (50.9 MB)\n",
      "   ---------------------------------------- 0.0/50.9 MB ? eta -:--:--\n",
      "   ----- ---------------------------------- 7.1/50.9 MB 33.6 MB/s eta 0:00:02\n",
      "   --------------- ------------------------ 19.9/50.9 MB 46.6 MB/s eta 0:00:01\n",
      "   ------------------------- -------------- 32.0/50.9 MB 50.8 MB/s eta 0:00:01\n",
      "   -------------------------------- ------- 41.7/50.9 MB 49.1 MB/s eta 0:00:01\n",
      "   ---------------------------------------  50.9/50.9 MB 48.3 MB/s eta 0:00:01\n",
      "   ---------------------------------------- 50.9/50.9 MB 42.7 MB/s eta 0:00:00\n",
      "Using cached numpy-1.26.4-cp39-cp39-win_amd64.whl (15.8 MB)\n",
      "Downloading protobuf-4.25.8-cp39-cp39-win_amd64.whl (413 kB)\n",
      "Downloading jax-0.4.30-py3-none-any.whl (2.0 MB)\n",
      "   ---------------------------------------- 0.0/2.0 MB ? eta -:--:--\n",
      "   ---------------------------------------- 2.0/2.0 MB 56.4 MB/s eta 0:00:00\n",
      "Downloading jaxlib-0.4.30-cp39-cp39-win_amd64.whl (51.9 MB)\n",
      "   ---------------------------------------- 0.0/51.9 MB ? eta -:--:--\n",
      "   -------- ------------------------------- 11.5/51.9 MB 60.3 MB/s eta 0:00:01\n",
      "   -------------- ------------------------- 18.4/51.9 MB 44.6 MB/s eta 0:00:01\n",
      "   ------------------------ --------------- 31.5/51.9 MB 49.9 MB/s eta 0:00:01\n",
      "   ---------------------------------- ----- 44.8/51.9 MB 53.8 MB/s eta 0:00:01\n",
      "   ---------------------------------------- 51.9/51.9 MB 50.9 MB/s eta 0:00:00\n",
      "Downloading sentencepiece-0.2.1-cp39-cp39-win_amd64.whl (1.1 MB)\n",
      "   ---------------------------------------- 0.0/1.1 MB ? eta -:--:--\n",
      "   ---------------------------------------- 1.1/1.1 MB 52.8 MB/s eta 0:00:00\n",
      "Installing collected packages: sentencepiece, protobuf, numpy, jaxlib, jax, mediapipe\n",
      "  Attempting uninstall: protobuf\n",
      "    Found existing installation: protobuf 5.29.4\n",
      "    Uninstalling protobuf-5.29.4:\n",
      "      Successfully uninstalled protobuf-5.29.4\n",
      "  Attempting uninstall: numpy\n",
      "    Found existing installation: numpy 2.0.2\n",
      "    Uninstalling numpy-2.0.2:\n",
      "      Successfully uninstalled numpy-2.0.2\n",
      "Successfully installed jax-0.4.30 jaxlib-0.4.30 mediapipe-0.10.21 numpy-1.26.4 protobuf-4.25.8 sentencepiece-0.2.1\n"
     ]
    },
    {
     "name": "stderr",
     "output_type": "stream",
     "text": [
      "ERROR: pip's dependency resolver does not currently take into account all the packages that are installed. This behaviour is the source of the following dependency conflicts.\n",
      "inference 0.51.2 requires numpy<2.3.0,>=2.0.0, but you have numpy 1.26.4 which is incompatible.\n"
     ]
    }
   ],
   "source": [
    "#!pip install mediapipe"
   ]
  }
 ],
 "metadata": {
  "kernelspec": {
   "display_name": "cuda_torch1",
   "language": "python",
   "name": "python3"
  },
  "language_info": {
   "codemirror_mode": {
    "name": "ipython",
    "version": 3
   },
   "file_extension": ".py",
   "mimetype": "text/x-python",
   "name": "python",
   "nbconvert_exporter": "python",
   "pygments_lexer": "ipython3",
   "version": "3.9.21"
  }
 },
 "nbformat": 4,
 "nbformat_minor": 5
}
